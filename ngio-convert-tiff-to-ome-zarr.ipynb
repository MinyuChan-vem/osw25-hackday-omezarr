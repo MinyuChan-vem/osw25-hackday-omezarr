{
 "cells": [
  {
   "cell_type": "markdown",
   "id": "15739c1e",
   "metadata": {},
   "source": [
    "# Ngio"
   ]
  },
  {
   "cell_type": "code",
   "execution_count": 1,
   "id": "8d095748",
   "metadata": {},
   "outputs": [
    {
     "name": "stdout",
     "output_type": "stream",
     "text": [
      "Read TIFF metadata in 0.05 seconds\n",
      "Created empty OME-Zarr in 0.55 seconds\n",
      "Written 527 planes in 2.50 seconds\n"
     ]
    },
    {
     "ename": "KeyboardInterrupt",
     "evalue": "",
     "output_type": "error",
     "traceback": [
      "\u001b[31m---------------------------------------------------------------------------\u001b[39m",
      "\u001b[31mKeyboardInterrupt\u001b[39m                         Traceback (most recent call last)",
      "\u001b[36mCell\u001b[39m\u001b[36m \u001b[39m\u001b[32mIn[1]\u001b[39m\u001b[32m, line 42\u001b[39m\n\u001b[32m     40\u001b[39m \u001b[38;5;28;01massert\u001b[39;00m \u001b[38;5;28misinstance\u001b[39m(dask_array, Array)\n\u001b[32m     41\u001b[39m dask_array = dask_array.rechunk((\u001b[32m128\u001b[39m, \u001b[32m128\u001b[39m, \u001b[32m128\u001b[39m))\n\u001b[32m---> \u001b[39m\u001b[32m42\u001b[39m \u001b[43mimage\u001b[49m\u001b[43m.\u001b[49m\u001b[43mset_array\u001b[49m\u001b[43m(\u001b[49m\u001b[43mdask_array\u001b[49m\u001b[43m)\u001b[49m\n\u001b[32m     43\u001b[39m \u001b[38;5;28mprint\u001b[39m(\u001b[33mf\u001b[39m\u001b[33m\"\u001b[39m\u001b[33mRechunked array in \u001b[39m\u001b[38;5;132;01m{\u001b[39;00mtime.perf_counter()\u001b[38;5;250m \u001b[39m-\u001b[38;5;250m \u001b[39mtimer\u001b[38;5;132;01m:\u001b[39;00m\u001b[33m.2f\u001b[39m\u001b[38;5;132;01m}\u001b[39;00m\u001b[33m seconds\u001b[39m\u001b[33m\"\u001b[39m)\n\u001b[32m     45\u001b[39m timer = time.perf_counter()\n",
      "\u001b[36mFile \u001b[39m\u001b[32m~/Projects/osw25-hackday-omezarr/.pixi/envs/ngio/lib/python3.13/site-packages/ngio/images/_abstract_image.py:228\u001b[39m, in \u001b[36mAbstractImage.set_array\u001b[39m\u001b[34m(self, patch, axes_order, **slice_kwargs)\u001b[39m\n\u001b[32m    214\u001b[39m \u001b[38;5;28;01mdef\u001b[39;00m\u001b[38;5;250m \u001b[39m\u001b[34mset_array\u001b[39m(\n\u001b[32m    215\u001b[39m     \u001b[38;5;28mself\u001b[39m,\n\u001b[32m    216\u001b[39m     patch: ArrayLike,\n\u001b[32m    217\u001b[39m     axes_order: Collection[\u001b[38;5;28mstr\u001b[39m] | \u001b[38;5;28;01mNone\u001b[39;00m = \u001b[38;5;28;01mNone\u001b[39;00m,\n\u001b[32m    218\u001b[39m     **slice_kwargs: \u001b[38;5;28mslice\u001b[39m | \u001b[38;5;28mint\u001b[39m | Iterable[\u001b[38;5;28mint\u001b[39m],\n\u001b[32m    219\u001b[39m ) -> \u001b[38;5;28;01mNone\u001b[39;00m:\n\u001b[32m    220\u001b[39m \u001b[38;5;250m    \u001b[39m\u001b[33;03m\"\"\"Set a slice of the image.\u001b[39;00m\n\u001b[32m    221\u001b[39m \n\u001b[32m    222\u001b[39m \u001b[33;03m    Args:\u001b[39;00m\n\u001b[32m   (...)\u001b[39m\u001b[32m    226\u001b[39m \n\u001b[32m    227\u001b[39m \u001b[33;03m    \"\"\"\u001b[39;00m\n\u001b[32m--> \u001b[39m\u001b[32m228\u001b[39m     \u001b[43mset_pipe\u001b[49m\u001b[43m(\u001b[49m\n\u001b[32m    229\u001b[39m \u001b[43m        \u001b[49m\u001b[43marray\u001b[49m\u001b[43m=\u001b[49m\u001b[38;5;28;43mself\u001b[39;49m\u001b[43m.\u001b[49m\u001b[43mzarr_array\u001b[49m\u001b[43m,\u001b[49m\n\u001b[32m    230\u001b[39m \u001b[43m        \u001b[49m\u001b[43mpatch\u001b[49m\u001b[43m=\u001b[49m\u001b[43mpatch\u001b[49m\u001b[43m,\u001b[49m\n\u001b[32m    231\u001b[39m \u001b[43m        \u001b[49m\u001b[43mdimensions\u001b[49m\u001b[43m=\u001b[49m\u001b[38;5;28;43mself\u001b[39;49m\u001b[43m.\u001b[49m\u001b[43mdimensions\u001b[49m\u001b[43m,\u001b[49m\n\u001b[32m    232\u001b[39m \u001b[43m        \u001b[49m\u001b[43maxes_order\u001b[49m\u001b[43m=\u001b[49m\u001b[43maxes_order\u001b[49m\u001b[43m,\u001b[49m\n\u001b[32m    233\u001b[39m \u001b[43m        \u001b[49m\u001b[43m*\u001b[49m\u001b[43m*\u001b[49m\u001b[43mslice_kwargs\u001b[49m\u001b[43m,\u001b[49m\n\u001b[32m    234\u001b[39m \u001b[43m    \u001b[49m\u001b[43m)\u001b[49m\n",
      "\u001b[36mFile \u001b[39m\u001b[32m~/Projects/osw25-hackday-omezarr/.pixi/envs/ngio/lib/python3.13/site-packages/ngio/common/_array_pipe.py:149\u001b[39m, in \u001b[36mset_pipe\u001b[39m\u001b[34m(array, patch, dimensions, axes_order, **slice_kwargs)\u001b[39m\n\u001b[32m    145\u001b[39m slices, transformations = _compute_to_disk_transforms(\n\u001b[32m    146\u001b[39m     dimensions=dimensions, axes_order=axes_order, **slice_kwargs\n\u001b[32m    147\u001b[39m )\n\u001b[32m    148\u001b[39m \u001b[38;5;28;01mif\u001b[39;00m \u001b[38;5;28misinstance\u001b[39m(patch, DaskArray):\n\u001b[32m--> \u001b[39m\u001b[32m149\u001b[39m     \u001b[43m_dask_set_pipe\u001b[49m\u001b[43m(\u001b[49m\n\u001b[32m    150\u001b[39m \u001b[43m        \u001b[49m\u001b[43marray\u001b[49m\u001b[43m=\u001b[49m\u001b[43marray\u001b[49m\u001b[43m,\u001b[49m\u001b[43m \u001b[49m\u001b[43mpatch\u001b[49m\u001b[43m=\u001b[49m\u001b[43mpatch\u001b[49m\u001b[43m,\u001b[49m\u001b[43m \u001b[49m\u001b[43mslices\u001b[49m\u001b[43m=\u001b[49m\u001b[43mslices\u001b[49m\u001b[43m,\u001b[49m\u001b[43m \u001b[49m\u001b[43mtransformations\u001b[49m\u001b[43m=\u001b[49m\u001b[43mtransformations\u001b[49m\n\u001b[32m    151\u001b[39m \u001b[43m    \u001b[49m\u001b[43m)\u001b[49m\n\u001b[32m    152\u001b[39m \u001b[38;5;28;01melif\u001b[39;00m \u001b[38;5;28misinstance\u001b[39m(patch, np.ndarray):\n\u001b[32m    153\u001b[39m     _numpy_set_pipe(\n\u001b[32m    154\u001b[39m         array=array, patch=patch, slices=slices, transformations=transformations\n\u001b[32m    155\u001b[39m     )\n",
      "\u001b[36mFile \u001b[39m\u001b[32m~/Projects/osw25-hackday-omezarr/.pixi/envs/ngio/lib/python3.13/site-packages/ngio/common/_array_pipe.py:98\u001b[39m, in \u001b[36m_dask_set_pipe\u001b[39m\u001b[34m(array, patch, slices, transformations)\u001b[39m\n\u001b[32m     91\u001b[39m \u001b[38;5;28;01mdef\u001b[39;00m\u001b[38;5;250m \u001b[39m\u001b[34m_dask_set_pipe\u001b[39m(\n\u001b[32m     92\u001b[39m     array: zarr.Array,\n\u001b[32m     93\u001b[39m     patch: DaskArray,\n\u001b[32m     94\u001b[39m     slices: SliceTransform,\n\u001b[32m     95\u001b[39m     transformations: \u001b[38;5;28mtuple\u001b[39m[AxesTransformation, ...],\n\u001b[32m     96\u001b[39m ) -> \u001b[38;5;28;01mNone\u001b[39;00m:\n\u001b[32m     97\u001b[39m     _patch = transform_dask_array(patch, transformations)\n\u001b[32m---> \u001b[39m\u001b[32m98\u001b[39m     \u001b[43mdask_set_slice\u001b[49m\u001b[43m(\u001b[49m\u001b[43marray\u001b[49m\u001b[43m,\u001b[49m\u001b[43m \u001b[49m\u001b[43m_patch\u001b[49m\u001b[43m,\u001b[49m\u001b[43m \u001b[49m\u001b[43mslices\u001b[49m\u001b[43m)\u001b[49m\n",
      "\u001b[36mFile \u001b[39m\u001b[32m~/Projects/osw25-hackday-omezarr/.pixi/envs/ngio/lib/python3.13/site-packages/ngio/common/_slicer.py:96\u001b[39m, in \u001b[36mdask_set_slice\u001b[39m\u001b[34m(array, patch, slices)\u001b[39m\n\u001b[32m     95\u001b[39m \u001b[38;5;28;01mdef\u001b[39;00m\u001b[38;5;250m \u001b[39m\u001b[34mdask_set_slice\u001b[39m(array: zarr.Array, patch: da.Array, slices: SliceTransform) -> \u001b[38;5;28;01mNone\u001b[39;00m:\n\u001b[32m---> \u001b[39m\u001b[32m96\u001b[39m     \u001b[43mda\u001b[49m\u001b[43m.\u001b[49m\u001b[43mto_zarr\u001b[49m\u001b[43m(\u001b[49m\u001b[43marr\u001b[49m\u001b[43m=\u001b[49m\u001b[43mpatch\u001b[49m\u001b[43m,\u001b[49m\u001b[43m \u001b[49m\u001b[43murl\u001b[49m\u001b[43m=\u001b[49m\u001b[43marray\u001b[49m\u001b[43m,\u001b[49m\u001b[43m \u001b[49m\u001b[43mregion\u001b[49m\u001b[43m=\u001b[49m\u001b[43mslices\u001b[49m\u001b[43m.\u001b[49m\u001b[43mslices\u001b[49m\u001b[43m)\u001b[49m\n",
      "\u001b[36mFile \u001b[39m\u001b[32m~/Projects/osw25-hackday-omezarr/.pixi/envs/ngio/lib/python3.13/site-packages/dask/array/core.py:3901\u001b[39m, in \u001b[36mto_zarr\u001b[39m\u001b[34m(arr, url, component, storage_options, overwrite, region, compute, return_stored, **kwargs)\u001b[39m\n\u001b[32m   3899\u001b[39m         arr = arr.rechunk(chunks)\n\u001b[32m   3900\u001b[39m         regions = [region]\n\u001b[32m-> \u001b[39m\u001b[32m3901\u001b[39m     \u001b[38;5;28;01mreturn\u001b[39;00m \u001b[43marr\u001b[49m\u001b[43m.\u001b[49m\u001b[43mstore\u001b[49m\u001b[43m(\u001b[49m\n\u001b[32m   3902\u001b[39m \u001b[43m        \u001b[49m\u001b[43mz\u001b[49m\u001b[43m,\u001b[49m\u001b[43m \u001b[49m\u001b[43mlock\u001b[49m\u001b[43m=\u001b[49m\u001b[38;5;28;43;01mFalse\u001b[39;49;00m\u001b[43m,\u001b[49m\u001b[43m \u001b[49m\u001b[43mregions\u001b[49m\u001b[43m=\u001b[49m\u001b[43mregions\u001b[49m\u001b[43m,\u001b[49m\u001b[43m \u001b[49m\u001b[43mcompute\u001b[49m\u001b[43m=\u001b[49m\u001b[43mcompute\u001b[49m\u001b[43m,\u001b[49m\u001b[43m \u001b[49m\u001b[43mreturn_stored\u001b[49m\u001b[43m=\u001b[49m\u001b[43mreturn_stored\u001b[49m\n\u001b[32m   3903\u001b[39m \u001b[43m    \u001b[49m\u001b[43m)\u001b[49m\n\u001b[32m   3904\u001b[39m \u001b[38;5;28;01melse\u001b[39;00m:\n\u001b[32m   3905\u001b[39m     \u001b[38;5;28;01mif\u001b[39;00m \u001b[38;5;129;01mnot\u001b[39;00m _check_regular_chunks(arr.chunks):\n\u001b[32m   3906\u001b[39m         \u001b[38;5;66;03m# We almost certainly get here because auto chunking has been used\u001b[39;00m\n\u001b[32m   3907\u001b[39m         \u001b[38;5;66;03m# on irregular chunks. The max will then be smaller than auto, so using\u001b[39;00m\n\u001b[32m   3908\u001b[39m         \u001b[38;5;66;03m# max is a safe choice\u001b[39;00m\n",
      "\u001b[36mFile \u001b[39m\u001b[32m~/Projects/osw25-hackday-omezarr/.pixi/envs/ngio/lib/python3.13/site-packages/dask/array/core.py:1800\u001b[39m, in \u001b[36mArray.store\u001b[39m\u001b[34m(self, target, **kwargs)\u001b[39m\n\u001b[32m   1798\u001b[39m \u001b[38;5;129m@wraps\u001b[39m(store)\n\u001b[32m   1799\u001b[39m \u001b[38;5;28;01mdef\u001b[39;00m\u001b[38;5;250m \u001b[39m\u001b[34mstore\u001b[39m(\u001b[38;5;28mself\u001b[39m, target, **kwargs):\n\u001b[32m-> \u001b[39m\u001b[32m1800\u001b[39m     \u001b[38;5;28;01mreturn\u001b[39;00m \u001b[43mstore\u001b[49m\u001b[43m(\u001b[49m\u001b[43m[\u001b[49m\u001b[38;5;28;43mself\u001b[39;49m\u001b[43m]\u001b[49m\u001b[43m,\u001b[49m\u001b[43m \u001b[49m\u001b[43m[\u001b[49m\u001b[43mtarget\u001b[49m\u001b[43m]\u001b[49m\u001b[43m,\u001b[49m\u001b[43m \u001b[49m\u001b[43m*\u001b[49m\u001b[43m*\u001b[49m\u001b[43mkwargs\u001b[49m\u001b[43m)\u001b[49m\n",
      "\u001b[36mFile \u001b[39m\u001b[32m~/Projects/osw25-hackday-omezarr/.pixi/envs/ngio/lib/python3.13/site-packages/dask/array/core.py:1227\u001b[39m, in \u001b[36mstore\u001b[39m\u001b[34m(***failed resolving arguments***)\u001b[39m\n\u001b[32m   1224\u001b[39m \u001b[38;5;28;01mif\u001b[39;00m \u001b[38;5;129;01mnot\u001b[39;00m return_stored:\n\u001b[32m   1225\u001b[39m     \u001b[38;5;28;01mimport\u001b[39;00m\u001b[38;5;250m \u001b[39m\u001b[34;01mdask\u001b[39;00m\n\u001b[32m-> \u001b[39m\u001b[32m1227\u001b[39m     \u001b[43mdask\u001b[49m\u001b[43m.\u001b[49m\u001b[43mcompute\u001b[49m\u001b[43m(\u001b[49m\u001b[43marrays\u001b[49m\u001b[43m,\u001b[49m\u001b[43m \u001b[49m\u001b[43m*\u001b[49m\u001b[43m*\u001b[49m\u001b[43mkwargs\u001b[49m\u001b[43m)\u001b[49m\n\u001b[32m   1228\u001b[39m     \u001b[38;5;28;01mreturn\u001b[39;00m \u001b[38;5;28;01mNone\u001b[39;00m\n\u001b[32m   1229\u001b[39m \u001b[38;5;28;01melse\u001b[39;00m:\n",
      "\u001b[36mFile \u001b[39m\u001b[32m~/Projects/osw25-hackday-omezarr/.pixi/envs/ngio/lib/python3.13/site-packages/dask/base.py:681\u001b[39m, in \u001b[36mcompute\u001b[39m\u001b[34m(traverse, optimize_graph, scheduler, get, *args, **kwargs)\u001b[39m\n\u001b[32m    678\u001b[39m     expr = expr.optimize()\n\u001b[32m    679\u001b[39m     keys = \u001b[38;5;28mlist\u001b[39m(flatten(expr.__dask_keys__()))\n\u001b[32m--> \u001b[39m\u001b[32m681\u001b[39m     results = \u001b[43mschedule\u001b[49m\u001b[43m(\u001b[49m\u001b[43mexpr\u001b[49m\u001b[43m,\u001b[49m\u001b[43m \u001b[49m\u001b[43mkeys\u001b[49m\u001b[43m,\u001b[49m\u001b[43m \u001b[49m\u001b[43m*\u001b[49m\u001b[43m*\u001b[49m\u001b[43mkwargs\u001b[49m\u001b[43m)\u001b[49m\n\u001b[32m    683\u001b[39m \u001b[38;5;28;01mreturn\u001b[39;00m repack(results)\n",
      "\u001b[36mFile \u001b[39m\u001b[32m~/Projects/osw25-hackday-omezarr/.pixi/envs/ngio/lib/python3.13/queue.py:202\u001b[39m, in \u001b[36mQueue.get\u001b[39m\u001b[34m(self, block, timeout)\u001b[39m\n\u001b[32m    200\u001b[39m \u001b[38;5;28;01melif\u001b[39;00m timeout \u001b[38;5;129;01mis\u001b[39;00m \u001b[38;5;28;01mNone\u001b[39;00m:\n\u001b[32m    201\u001b[39m     \u001b[38;5;28;01mwhile\u001b[39;00m \u001b[38;5;129;01mnot\u001b[39;00m \u001b[38;5;28mself\u001b[39m._qsize():\n\u001b[32m--> \u001b[39m\u001b[32m202\u001b[39m         \u001b[38;5;28;43mself\u001b[39;49m\u001b[43m.\u001b[49m\u001b[43mnot_empty\u001b[49m\u001b[43m.\u001b[49m\u001b[43mwait\u001b[49m\u001b[43m(\u001b[49m\u001b[43m)\u001b[49m\n\u001b[32m    203\u001b[39m         \u001b[38;5;28;01mif\u001b[39;00m \u001b[38;5;28mself\u001b[39m.is_shutdown \u001b[38;5;129;01mand\u001b[39;00m \u001b[38;5;129;01mnot\u001b[39;00m \u001b[38;5;28mself\u001b[39m._qsize():\n\u001b[32m    204\u001b[39m             \u001b[38;5;28;01mraise\u001b[39;00m ShutDown\n",
      "\u001b[36mFile \u001b[39m\u001b[32m~/Projects/osw25-hackday-omezarr/.pixi/envs/ngio/lib/python3.13/threading.py:359\u001b[39m, in \u001b[36mCondition.wait\u001b[39m\u001b[34m(self, timeout)\u001b[39m\n\u001b[32m    357\u001b[39m \u001b[38;5;28;01mtry\u001b[39;00m:    \u001b[38;5;66;03m# restore state no matter what (e.g., KeyboardInterrupt)\u001b[39;00m\n\u001b[32m    358\u001b[39m     \u001b[38;5;28;01mif\u001b[39;00m timeout \u001b[38;5;129;01mis\u001b[39;00m \u001b[38;5;28;01mNone\u001b[39;00m:\n\u001b[32m--> \u001b[39m\u001b[32m359\u001b[39m         \u001b[43mwaiter\u001b[49m\u001b[43m.\u001b[49m\u001b[43macquire\u001b[49m\u001b[43m(\u001b[49m\u001b[43m)\u001b[49m\n\u001b[32m    360\u001b[39m         gotit = \u001b[38;5;28;01mTrue\u001b[39;00m\n\u001b[32m    361\u001b[39m     \u001b[38;5;28;01melse\u001b[39;00m:\n",
      "\u001b[31mKeyboardInterrupt\u001b[39m: "
     ]
    }
   ],
   "source": [
    "from pathlib import Path\n",
    "from tifffile import TiffFile\n",
    "from ngio import create_empty_ome_zarr\n",
    "from dask.array import Array\n",
    "import time\n",
    "\n",
    "timer = time.perf_counter()\n",
    "path = Path(\"data\") / \"Human_neuron.tif\"\n",
    "\n",
    "with TiffFile(path) as tif:\n",
    "    shape = tif.series[0].shape\n",
    "    dtype = str(tif.series[0].dtype)\n",
    "    \n",
    "print(f\"Read TIFF metadata in {time.perf_counter() - timer:.2f} seconds\")\n",
    "\n",
    "\n",
    "timer = time.perf_counter()\n",
    "zarr_store = Path(\"data\") / \"Human_neuron_ngio.zarr\"\n",
    "ome_zarr = create_empty_ome_zarr(store=zarr_store, \n",
    "                                 xy_pixelsize=0.24,\n",
    "                                 z_spacing=0.29, \n",
    "                                 shape=shape,\n",
    "                                 dtype=dtype, \n",
    "                                 chunks=(1, shape[1], shape[2]),\n",
    "                                 overwrite=True)\n",
    "image = ome_zarr.get_image()\n",
    "print(f\"Created empty OME-Zarr in {time.perf_counter() - timer:.2f} seconds\")\n",
    "\n",
    "timer = time.perf_counter()\n",
    "with TiffFile(path) as tif:\n",
    "    for z, page in enumerate(tif.series[0].pages):\n",
    "        assert page is not None\n",
    "        plane = page.asarray()[None, ...]\n",
    "        image.set_array(plane, z=z)\n",
    "        \n",
    "print(f\"Written {shape[0]} planes in {time.perf_counter() - timer:.2f} seconds\")\n",
    "\n",
    "timer = time.perf_counter()\n",
    "dask_array = image.get_array(mode=\"dask\")\n",
    "assert isinstance(dask_array, Array)\n",
    "dask_array = dask_array.rechunk((128, 128, 128))\n",
    "image.set_array(dask_array)\n",
    "print(f\"Rechunked array in {time.perf_counter() - timer:.2f} seconds\")\n",
    "\n",
    "timer = time.perf_counter()\n",
    "image.consolidate()\n",
    "print(f\"Consolidated array in {time.perf_counter() - timer:.2f} seconds\")\n",
    "\n",
    "timer = time.perf_counter()\n",
    "ome_zarr.set_channel_percentiles()\n",
    "print(f\"Set channel percentiles in {time.perf_counter() - timer:.2f} seconds\")"
   ]
  },
  {
   "cell_type": "code",
   "execution_count": null,
   "id": "a826d2af",
   "metadata": {},
   "outputs": [],
   "source": []
  }
 ],
 "metadata": {
  "kernelspec": {
   "display_name": "ngio",
   "language": "python",
   "name": "python3"
  },
  "language_info": {
   "codemirror_mode": {
    "name": "ipython",
    "version": 3
   },
   "file_extension": ".py",
   "mimetype": "text/x-python",
   "name": "python",
   "nbconvert_exporter": "python",
   "pygments_lexer": "ipython3",
   "version": "3.13.5"
  }
 },
 "nbformat": 4,
 "nbformat_minor": 5
}
