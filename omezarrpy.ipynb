{
 "cells": [
  {
   "cell_type": "code",
   "execution_count": 1,
   "id": "ba4d1d7f",
   "metadata": {},
   "outputs": [],
   "source": [
    "from pathlib import Path\n",
    "import zarr\n",
    "from ome_zarr.io import parse_url\n",
    "from ome_zarr.reader import Reader\n",
    "from ome_zarr.writer import write_multiscale \n",
    "import dask.array as da\n",
    "import importlib.metadata"
   ]
  },
  {
   "cell_type": "code",
   "execution_count": 2,
   "id": "02656904",
   "metadata": {},
   "outputs": [
    {
     "name": "stdout",
     "output_type": "stream",
     "text": [
      "Built 4 level(s): L0 shape=(527, 2614, 2344) → L3 shape=(527, 326, 293)\n",
      "ome-zarr version: 0.11.1\n",
      "✅ Wrote pyramidal NGFF store to: D:\\osw2025\\slides-big-imaging-data-osw25\\tutorials\\pyramidal_chunked_human-neuron\\level0.pyramid.ngff.zarr\n"
     ]
    }
   ],
   "source": [
    "# --- INPUTS ---\n",
    "zarr_array_root = Path(r\"D:/osw2025/slides-big-imaging-data-osw25/tutorials/pyramidal_chunked_human-neuron/level0\")\n",
    "voxel_size_l0   = [0.294, 0.241, 0.241]  # (z,y,x) micrometers\n",
    "downsample_xy   = 2        # 2× downsample in Y & X per level\n",
    "stop_min_xy     = 512      # stop when min(Y,X) <= this\n",
    "is_labels       = False    # True for segmentation labels (uses max)\n",
    "target_chunks   = None     # e.g. (1, 256, 256) for snappy slice viewing\n",
    "\n",
    "# --- Load your plain Zarr ARRAY as dask ---\n",
    "za   = zarr.open_array(str(zarr_array_root), mode=\"r\")\n",
    "arr0 = da.from_zarr(za)  # shape (Z, Y, X)\n",
    "if target_chunks:\n",
    "    arr0 = arr0.rechunk(target_chunks)\n",
    "\n",
    "# --- Downsample helper (coarsen over Y,X; Z unchanged) ---\n",
    "def ds_xy(a, f=2, agg=\"mean\"):\n",
    "    fac = {0: 1, 1: f, 2: f}\n",
    "    if agg == \"mean\":\n",
    "        out = da.coarsen(da.mean, a, fac, trim_excess=True).astype(a.dtype)\n",
    "    elif agg == \"max\":\n",
    "        out = da.coarsen(da.max, a, fac, trim_excess=True)\n",
    "    else:\n",
    "        raise ValueError(\"agg must be 'mean' (intensity) or 'max' (labels)\")\n",
    "    return out\n",
    "\n",
    "agg = \"max\" if is_labels else \"mean\"\n",
    "\n",
    "# --- Build pyramid levels: L0..Ln ---\n",
    "levels = [arr0]\n",
    "while True:\n",
    "    _, y, x = levels[-1].shape\n",
    "    if min(y, x) <= stop_min_xy:\n",
    "        break\n",
    "    nxt = ds_xy(levels[-1], f=downsample_xy, agg=agg)\n",
    "    if target_chunks:\n",
    "        nxt = nxt.rechunk(target_chunks)\n",
    "    levels.append(nxt)\n",
    "\n",
    "print(f\"Built {len(levels)} level(s): L0 shape={tuple(levels[0].shape)} → L{len(levels)-1} shape={tuple(levels[-1].shape)}\")\n",
    "\n",
    "# --- NGFF metadata (axes need 'type') ---\n",
    "axes_meta = [\n",
    "    {\"name\": \"z\", \"type\": \"space\", \"unit\": \"micrometer\"},\n",
    "    {\"name\": \"y\", \"type\": \"space\", \"unit\": \"micrometer\"},\n",
    "    {\"name\": \"x\", \"type\": \"space\", \"unit\": \"micrometer\"},\n",
    "]\n",
    "coord_tx = []\n",
    "for i in range(len(levels)):\n",
    "    scl = [\n",
    "        voxel_size_l0[0],                  # Z unchanged\n",
    "        voxel_size_l0[1] * (downsample_xy ** i),\n",
    "        voxel_size_l0[2] * (downsample_xy ** i),\n",
    "    ]\n",
    "    coord_tx.append([{\"type\": \"scale\", \"scale\": scl}])\n",
    "\n",
    "# --- Output NGFF store ---\n",
    "out_path = zarr_array_root.parent / (zarr_array_root.name + \".pyramid.ngff.zarr\")\n",
    "out_grp  = zarr.open_group(str(out_path), mode=\"w\")\n",
    "\n",
    "# --- Write pyramid multiscale ---\n",
    "try:\n",
    "    write_multiscale(\n",
    "        pyramid=levels,\n",
    "        group=out_grp,\n",
    "        axes=axes_meta,\n",
    "        coordinate_transformations=coord_tx,\n",
    "        compute=True,                       # materialize data to disk\n",
    "    )\n",
    "except TypeError:\n",
    "    # Older ome-zarr signature (positional first arg)\n",
    "    write_multiscale(\n",
    "        levels,\n",
    "        out_grp,\n",
    "        axes=axes_meta,\n",
    "        coordinate_transformations=coord_tx,\n",
    "        compute=True,\n",
    "    )\n",
    "\n",
    "# Optional: consolidate for faster reading\n",
    "zarr.consolidate_metadata(str(out_path))\n",
    "\n",
    "print(\"ome-zarr version:\", importlib.metadata.version(\"ome-zarr\"))\n",
    "print(f\"✅ Wrote pyramidal NGFF store to: {out_path}\")"
   ]
  },
  {
   "cell_type": "code",
   "execution_count": 3,
   "id": "eb275094",
   "metadata": {},
   "outputs": [
    {
     "name": "stdout",
     "output_type": "stream",
     "text": [
      "Opening OME-Zarr from: D:\\osw2025\\slides-big-imaging-data-osw25\\tutorials\\pyramidal_chunked_human-neuron\\level0.pyramid.ngff.zarr\n"
     ]
    }
   ],
   "source": [
    "# --- 1. Path to your local directory ---\n",
    "zarr_path = Path(\"D:/osw2025/slides-big-imaging-data-osw25/tutorials/pyramidal_chunked_human-neuron/level0.pyramid.ngff.zarr\").resolve()\n",
    "print(f\"Opening OME-Zarr from: {zarr_path}\")"
   ]
  },
  {
   "cell_type": "code",
   "execution_count": 4,
   "id": "7180d6f2",
   "metadata": {},
   "outputs": [
    {
     "name": "stdout",
     "output_type": "stream",
     "text": [
      "Found 1 node(s) in this store\n"
     ]
    }
   ],
   "source": [
    "# --- 2. Open with ome-zarr-py ---\n",
    "url = parse_url(str(zarr_path), mode=\"r\")\n",
    "reader = Reader(url)\n",
    "nodes = list(reader())\n",
    "\n",
    "print(f\"Found {len(nodes)} node(s) in this store\")"
   ]
  },
  {
   "cell_type": "code",
   "execution_count": 5,
   "id": "5bed56ab",
   "metadata": {},
   "outputs": [
    {
     "name": "stdout",
     "output_type": "stream",
     "text": [
      "\n",
      "Group tree:\n",
      "/\n",
      " ├── 0 (527, 2614, 2344) uint8\n",
      " ├── 1 (527, 1307, 1172) uint8\n",
      " ├── 2 (527, 653, 586) uint8\n",
      " └── 3 (527, 326, 293) uint8\n"
     ]
    }
   ],
   "source": [
    "# --- 3. Optional: view Zarr group structure ---\n",
    "import zarr\n",
    "import sys\n",
    "try:\n",
    "    root = zarr.open_group(str(zarr_path), mode=\"r\")\n",
    "    print(\"\\nGroup tree:\")\n",
    "    print(root.tree())\n",
    "except Exception as e:\n",
    "    print(f\"Error opening Zarr group or printing tree: {e}\")"
   ]
  },
  {
   "cell_type": "code",
   "execution_count": 7,
   "id": "b97d74cf",
   "metadata": {},
   "outputs": [
    {
     "name": "stdout",
     "output_type": "stream",
     "text": [
      "/\n",
      " ├── 0 (527, 2614, 2344) uint8\n",
      " ├── 1 (527, 1307, 1172) uint8\n",
      " ├── 2 (527, 653, 586) uint8\n",
      " └── 3 (527, 326, 293) uint8\n",
      "{\n",
      "  \"multiscales\": [\n",
      "    {\n",
      "      \"axes\": [\n",
      "        {\n",
      "          \"name\": \"z\",\n",
      "          \"type\": \"space\",\n",
      "          \"unit\": \"micrometer\"\n",
      "        },\n",
      "        {\n",
      "          \"name\": \"y\",\n",
      "          \"type\": \"space\",\n",
      "          \"unit\": \"micrometer\"\n",
      "        },\n",
      "        {\n",
      "          \"name\": \"x\",\n",
      "          \"type\": \"space\",\n",
      "          \"unit\": \"micrometer\"\n",
      "        }\n",
      "      ],\n",
      "      \"datasets\": [\n",
      "        {\n",
      "          \"coordinateTransformations\": [\n",
      "            {\n",
      "              \"scale\": [\n",
      "                0.294,\n",
      "                0.241,\n",
      "                0.241\n",
      "              ],\n",
      "              \"type\": \"scale\"\n",
      "            }\n",
      "          ],\n",
      "          \"path\": \"0\"\n",
      "        },\n",
      "        {\n",
      "          \"coordinateTransformations\": [\n",
      "            {\n",
      "              \"scale\": [\n",
      "                0.294,\n",
      "                0.482,\n",
      "                0.482\n",
      "              ],\n",
      "              \"type\": \"scale\"\n",
      "            }\n",
      "          ],\n",
      "          \"path\": \"1\"\n",
      "        },\n",
      "        {\n",
      "          \"coordinateTransformations\": [\n",
      "            {\n",
      "              \"scale\": [\n",
      "                0.294,\n",
      "                0.964,\n",
      "                0.964\n",
      "              ],\n",
      "              \"type\": \"scale\"\n",
      "            }\n",
      "          ],\n",
      "          \"path\": \"2\"\n",
      "        },\n",
      "        {\n",
      "          \"coordinateTransformations\": [\n",
      "            {\n",
      "              \"scale\": [\n",
      "                0.294,\n",
      "                1.928,\n",
      "                1.928\n",
      "              ],\n",
      "              \"type\": \"scale\"\n",
      "            }\n",
      "          ],\n",
      "          \"path\": \"3\"\n",
      "        }\n",
      "      ],\n",
      "      \"name\": \"/\",\n",
      "      \"version\": \"0.4\"\n",
      "    }\n",
      "  ]\n",
      "}\n"
     ]
    }
   ],
   "source": [
    "import json\n",
    "root = zarr.open_group(str(zarr_path), mode=\"r\")\n",
    "print(root.tree())\n",
    "print(json.dumps(json.loads((zarr_path/\".zattrs\").read_text()), indent=2))"
   ]
  },
  {
   "cell_type": "code",
   "execution_count": 8,
   "id": "aca9c69a",
   "metadata": {},
   "outputs": [
    {
     "name": "stdout",
     "output_type": "stream",
     "text": [
      "Is pyramidal: True\n"
     ]
    }
   ],
   "source": [
    "import json\n",
    "from pathlib import Path\n",
    "\n",
    "#zarr_path = Path(\"your_store_path\")\n",
    "zattrs_file = zarr_path / \".zattrs\"\n",
    "if zattrs_file.exists():\n",
    "    zattrs = json.loads(zattrs_file.read_text())\n",
    "    is_pyramidal = \"multiscales\" in zattrs and len(zattrs[\"multiscales\"][0].get(\"datasets\", [])) > 1\n",
    "    print(\"Is pyramidal:\", is_pyramidal)\n",
    "else:\n",
    "    print(\".zattrs file not found\")"
   ]
  },
  {
   "cell_type": "code",
   "execution_count": 9,
   "id": "ae2832da",
   "metadata": {},
   "outputs": [],
   "source": [
    "import zarr, dask.array as da, napari\n",
    "\n",
    "root = zarr.open_group(str(zarr_path), mode=\"r\")\n",
    "arr0 = da.from_zarr(root[\"0\"])  # this is your (527, 2614, 2344) array\n",
    "\n",
    "viewer = napari.Viewer()\n",
    "viewer.add_image(arr0, name=\"L0\", scale=[0.294, 0.241, 0.241])  # (z,y,x) voxel size µm\n",
    "napari.run()\n"
   ]
  }
 ],
 "metadata": {
  "kernelspec": {
   "display_name": "big-imaging-data-tutorial",
   "language": "python",
   "name": "python3"
  },
  "language_info": {
   "codemirror_mode": {
    "name": "ipython",
    "version": 3
   },
   "file_extension": ".py",
   "mimetype": "text/x-python",
   "name": "python",
   "nbconvert_exporter": "python",
   "pygments_lexer": "ipython3",
   "version": "3.13.5"
  }
 },
 "nbformat": 4,
 "nbformat_minor": 5
}
