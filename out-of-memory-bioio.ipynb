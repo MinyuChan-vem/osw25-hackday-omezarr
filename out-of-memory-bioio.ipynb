{
 "cells": [
  {
   "cell_type": "code",
   "execution_count": 1,
   "id": "e3f9ceff",
   "metadata": {},
   "outputs": [
    {
     "name": "stdout",
     "output_type": "stream",
     "text": [
      "{'bioio-tifffile': PluginSupport(supported=True, error=None), 'bioio-ome-zarr': PluginSupport(supported=False, error=None), 'ArrayLike': PluginSupport(supported=False, error=\"ArrayLikeReader does not support the image: 'Unsupported image type: <class 'fsspec.implementations.local.LocalFileSystem'>. ArrayLikeReader supported types are numpy ndarray, dask Array,or xarray DataArray.'.\")}\n"
     ]
    }
   ],
   "source": [
    "from bioio import BioImage, plugin_feasibility_report\n",
    "from pathlib import Path\n",
    "\n",
    "tiff_image_path = Path.home()/\"data/neuron-data/Human_neuron.tif\"\n",
    "assert tiff_image_path.exists()\n",
    "print(plugin_feasibility_report(tiff_image_path))\n",
    "\n"
   ]
  },
  {
   "cell_type": "code",
   "execution_count": 2,
   "id": "67dcb062",
   "metadata": {},
   "outputs": [
    {
     "name": "stdout",
     "output_type": "stream",
     "text": [
      "(1, 1, 527, 2614, 2344)\n",
      "TCZYX\n",
      "<?xml version = \"1.0\" encoding = \"UTF-8\"?>\n",
      "\n",
      "<!--\n",
      "#~~~~~~~~~~~~~~~~~~~~~~~~~~~~~~~~~~~~~~~~~~~~~~~~~~~~~~~~~~~~~~~~~~~~~~~~~~~~~~~\n",
      "# Written by: Imaris x64 7.6.5 [Nov 14 2013]\n",
      "#~~~~~~~~~~~~~~~~~~~~~~~~~~~~~~~~~~~~~~~~~~~~~~~~~~~~~~~~~~~~~~~~~~~~~~~~~~~~~~~\n",
      "-->\n",
      "\n",
      "<OME xmlns = \"http://www.openmicroscopy.org/XMLschemas/OME/FC/ome.xsd\"\n",
      "  xmlns:STD = \"http://www.openmicroscopy.org/XMLschemas/STD/RC2/STD.xsd\"\n",
      "  xmlns:Bin = \"http://www.openmicroscopy.org/XMLschemas/BinaryFile/RC1/BinaryFile.xsd\"\n",
      "  xmlns:xsi = \"http://www.w3.org/2001/XMLSchema-instance\"\n",
      "  xsi:schemaLocation = \"http://www.openmicroscopy.org/XMLschemas/OME/FC/ome.xsd http://www.openmicroscopy.org/XMLschemas/OME/FC/ome.xsd http://www.openmicroscopy.org/XMLschemas/STD/RC2/STD.xsd http://www.openmicroscopy.org/XMLschemas/STD/RC2/STD.xsd\">\n",
      "  <Image Name = \"name\" PixelSizeX = \"0.241\" PixelSizeY = \"0.241\" PixelSizeZ = \"0.294\" ID = \"ome.bitplane.com:Image:{78eea649-f695-4aab-b7a0-2f119fa68054}\">\n",
      "    <CreationDate>2018-12-08T16:44:43.000</CreationDate>\n",
      "    <Description>(no description available)</Description>\n",
      "    <ChannelInfo ID=\"ome.bitplane.com:ChannelInfo:{1f291c47-8cdc-41d3-9bcf-1e3d6cfbea47}\" Name=\"(name not available)\" Description=\"(no description available)\">\n",
      "      <ChannelComponent Pixels=\"ome.bitplane.com:Pixels:{82699a33-4f2e-4431-9b2f-f37e894d37b6}\" Index=\"0\"/>\n",
      "    </ChannelInfo>\n",
      "    <Pixels DimensionOrder = \"XYZCT\" PixelType = \"Uint8\" BigEndian = \"false\" ID = \"ome.bitplane.com:Pixels:{82699a33-4f2e-4431-9b2f-f37e894d37b6}\" SizeX = \"2344\" SizeY = \"2614\" SizeZ = \"527\" SizeC = \"1\" SizeT = \"1\">\n",
      "      <TiffData/>\n",
      "    </Pixels>\n",
      "  </Image>\n",
      "</OME>\n"
     ]
    }
   ],
   "source": [
    "tiff_image = BioImage(tiff_image_path)\n",
    "print(tiff_image.shape)\n",
    "print(tiff_image.dims.order)\n",
    "print(tiff_image.metadata)"
   ]
  },
  {
   "cell_type": "code",
   "execution_count": 3,
   "id": "81eb3a26",
   "metadata": {},
   "outputs": [
    {
     "ename": "ModuleNotFoundError",
     "evalue": "No module named 'bioio_ome_zarr.writers'",
     "output_type": "error",
     "traceback": [
      "\u001b[31m---------------------------------------------------------------------------\u001b[39m",
      "\u001b[31mModuleNotFoundError\u001b[39m                       Traceback (most recent call last)",
      "\u001b[36mCell\u001b[39m\u001b[36m \u001b[39m\u001b[32mIn[3]\u001b[39m\u001b[32m, line 1\u001b[39m\n\u001b[32m----> \u001b[39m\u001b[32m1\u001b[39m \u001b[38;5;28;01mfrom\u001b[39;00m\u001b[38;5;250m \u001b[39m\u001b[34;01mbioio_ome_zarr\u001b[39;00m\u001b[34;01m.\u001b[39;00m\u001b[34;01mwriters\u001b[39;00m\u001b[38;5;250m \u001b[39m\u001b[38;5;28;01mimport\u001b[39;00m (\n\u001b[32m      2\u001b[39m     OmeZarrWriterV2,\n\u001b[32m      3\u001b[39m     chunk_size_from_memory_target,\n\u001b[32m      4\u001b[39m     compute_level_shapes,\n\u001b[32m      5\u001b[39m     compute_level_chunk_sizes_zslice,\n\u001b[32m      6\u001b[39m     resize,\n\u001b[32m      7\u001b[39m )\n",
      "\u001b[31mModuleNotFoundError\u001b[39m: No module named 'bioio_ome_zarr.writers'"
     ]
    }
   ],
   "source": [
    "from bioio_ome_zarr.writers import (\n",
    "    OmeZarrWriterV2,\n",
    "    chunk_size_from_memory_target,\n",
    "    compute_level_shapes,\n",
    "    compute_level_chunk_sizes_zslice,\n",
    "    resize,\n",
    ")"
   ]
  }
 ],
 "metadata": {
  "kernelspec": {
   "display_name": "big-imaging-data-tutorial",
   "language": "python",
   "name": "python3"
  },
  "language_info": {
   "codemirror_mode": {
    "name": "ipython",
    "version": 3
   },
   "file_extension": ".py",
   "mimetype": "text/x-python",
   "name": "python",
   "nbconvert_exporter": "python",
   "pygments_lexer": "ipython3",
   "version": "3.13.5"
  }
 },
 "nbformat": 4,
 "nbformat_minor": 5
}
