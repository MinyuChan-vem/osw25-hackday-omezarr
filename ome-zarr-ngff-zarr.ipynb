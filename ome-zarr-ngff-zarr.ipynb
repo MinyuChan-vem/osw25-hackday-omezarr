{
 "cells": [
  {
   "cell_type": "markdown",
   "id": "15739c1e",
   "metadata": {},
   "source": [
    "# Ngff Zarr"
   ]
  },
  {
   "cell_type": "code",
   "execution_count": null,
   "id": "8100afc0",
   "metadata": {},
   "outputs": [],
   "source": [
    "from pathlib import Path\n",
    "import tifffile as tiff\n",
    "import time\n",
    "import ngff_zarr as nz\n",
    "\n",
    "timer = time.perf_counter()\n",
    "path = Path(\"data\") / \"Human_neuron.tif\"\n",
    "\n",
    "with tiff.TiffFile(path) as tif:\n",
    "    arr = tif.asarray(series=0)\n",
    "    \n",
    "multiscales = nz.to_multiscales(arr, chunks=(128, 128, 128))\n",
    "nz.to_ngff_zarr(Path(\"data\") / \"Human_neuron_ngff_zarr.zarr\", multiscales, overwrite=True, use_tensorstore=True)\n",
    "print(f\"Converted TIFF to NGFF Zarr in {time.perf_counter() - timer:.2f} seconds\")\n"
   ]
  },
  {
   "cell_type": "code",
   "execution_count": null,
   "id": "92447e8b",
   "metadata": {},
   "outputs": [],
   "source": [
    "from pathlib import Path\n",
    "import tifffile as tiff\n",
    "import time\n",
    "import ngff_zarr as nz\n",
    "\n",
    "timer = time.perf_counter()\n",
    "path = Path(\"data\") / \"Human_neuron.tif\"\n",
    "\n",
    "with tiff.TiffFile(path) as tif:\n",
    "    arr = tif.asarray(series=0)\n",
    "    \n",
    "multiscales = nz.to_multiscales(arr, chunks=(128, 128, 128))\n",
    "nz.to_ngff_zarr(Path(\"data\") / \"Human_neuron_ngff_zarr.zarr\", multiscales, overwrite=True, use_tensorstore=False)\n",
    "print(f\"Converted TIFF to NGFF Zarr in {time.perf_counter() - timer:.2f} seconds\")"
   ]
  },
  {
   "cell_type": "code",
   "execution_count": null,
   "id": "10c3ca5d",
   "metadata": {},
   "outputs": [],
   "source": []
  }
 ],
 "metadata": {
  "kernelspec": {
   "display_name": "ngff-zarr",
   "language": "python",
   "name": "python3"
  },
  "language_info": {
   "codemirror_mode": {
    "name": "ipython",
    "version": 3
   },
   "file_extension": ".py",
   "mimetype": "text/x-python",
   "name": "python",
   "nbconvert_exporter": "python",
   "pygments_lexer": "ipython3",
   "version": "3.13.5"
  }
 },
 "nbformat": 4,
 "nbformat_minor": 5
}
